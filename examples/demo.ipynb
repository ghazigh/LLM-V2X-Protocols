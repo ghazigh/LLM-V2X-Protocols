{
 "cells": [
  {
   "cell_type": "code",
   "execution_count": null,
   "metadata": {},
   "outputs": [],
   "source": [
    "# Install necessary packages (if running in a new environment)\n",
    "!pip install -r ../requirements.txt"
   ]
  },
  {
   "cell_type": "code",
   "execution_count": null,
   "metadata": {},
   "outputs": [],
   "source": [
    "# Import modules\n",
    "from src.semantic_compression import SemanticCompressor\n",
    "from src.context_aware_messaging import ContextAwareMessenger\n",
    "from src.multi_language_support import MultiLanguageSupport"
   ]
  },
  {
   "cell_type": "code",
   "execution_count": null,
   "metadata": {},
   "outputs": [],
   "source": [
    "# Initialize components\n",
    "compressor = SemanticCompressor()\n",
    "messenger = ContextAwareMessenger()\n",
    "translator = MultiLanguageSupport()"
   ]
  },
  {
   "cell_type": "code",
   "execution_count": null,
   "metadata": {},
   "outputs": [],
   "source": [
    "# Sample message and context\n",
    "message = \"Lane closure ahead due to maintenance work.\"\n",
    "context = {\"location\": \"Exit 25\", \"expected_delay\": \"15 minutes\"}"
   ]
  },
  {
   "cell_type": "code",
   "execution_count": null,
   "metadata": {},
   "outputs": [],
   "source": [
    "# Compress message\n",
    "compressed = compressor.compress(message)\n",
    "print(\"Compressed Message:\", compressed)"
   ]
  },
  {
   "cell_type": "code",
   "execution_count": null,
   "metadata": {},
   "outputs": [],
   "source": [
    "# Create context-aware message\n",
    "context_message = messenger.create_message(compressed, context)\n",
    "print(\"Context Message:\", context_message)"
   ]
  },
  {
   "cell_type": "code",
   "execution_count": null,
   "metadata": {},
   "outputs": [],
   "source": [
    "# Translate message\n",
    "translated_message = translator.translate(str(context_message), target_language='it')\n",
    "print(\"Translated Message:\", translated_message)"
   ]
  }
 ],
 "metadata": {
  "language_info": {
   "name": "python"
  }
 },
 "nbformat": 4,
 "nbformat_minor": 2
}
